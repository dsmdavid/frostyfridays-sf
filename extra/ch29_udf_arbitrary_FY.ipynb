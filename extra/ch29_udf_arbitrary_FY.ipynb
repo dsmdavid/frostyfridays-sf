{
 "cells": [
  {
   "cell_type": "code",
   "execution_count": 1,
   "id": "0e03dfb6",
   "metadata": {},
   "outputs": [],
   "source": [
    "import os"
   ]
  },
  {
   "cell_type": "code",
   "execution_count": 4,
   "id": "d9d0bd9b",
   "metadata": {},
   "outputs": [],
   "source": [
    "import re\n",
    "import pandas as pd\n",
    "from sf_utils_snowpark import CONN_PARAM\n",
    "from snowflake.connector.pandas_tools import write_pandas"
   ]
  },
  {
   "cell_type": "code",
   "execution_count": 5,
   "id": "0409b3a7",
   "metadata": {},
   "outputs": [],
   "source": [
    "from snowflake.snowpark.session import Session\n",
    "from snowflake.snowpark.types import IntegerType, FloatType, StringType, DateType\n",
    "from snowflake.snowpark.functions import avg, sum, col, udf, call_udf, call_builtin, year\n",
    "from datetime import date, datetime"
   ]
  },
  {
   "cell_type": "code",
   "execution_count": 6,
   "id": "2c597ba5",
   "metadata": {},
   "outputs": [],
   "source": [
    "session = Session.builder.configs(CONN_PARAM).create()"
   ]
  },
  {
   "cell_type": "markdown",
   "id": "85a8c2b6",
   "metadata": {},
   "source": [
    "You need to create a UDF that will produce a fiscal year for the start_date. The logic should be that if the month is from May onwards* then the fiscal year should be the current year + 1, otherwise, the current year.\n",
    "\n",
    "For example:\n",
    "\n",
    "2022-05-13 = FY23\n",
    "\n",
    "2022-02-11=FY22"
   ]
  },
  {
   "cell_type": "code",
   "execution_count": 7,
   "id": "04095802",
   "metadata": {},
   "outputs": [],
   "source": [
    "@udf(name=\"arbitrary_fy\",\n",
    "     is_permanent=True,\n",
    "     stage_location=\"@DVD_FROSTY_FRIDAYS_29\",\n",
    "     return_type=StringType(),\n",
    "     input_types=[DateType()],\n",
    "     packages= [\"pandas\"],\n",
    "     replace=True,\n",
    "     session=session)\n",
    "def arbitrary_fy(target_date):\n",
    "    '''Expects a datetime.date object'''\n",
    "#     return 'sample_done'\n",
    "    return 'FY'+ (str(target_date.year) if target_date.month < 5 else str(target_date.year + 1)) "
   ]
  }
 ],
 "metadata": {
  "kernelspec": {
   "display_name": "snowpark_frostyfridays",
   "language": "python",
   "name": "snowpark_frosty"
  },
  "language_info": {
   "codemirror_mode": {
    "name": "ipython",
    "version": 3
   },
   "file_extension": ".py",
   "mimetype": "text/x-python",
   "name": "python",
   "nbconvert_exporter": "python",
   "pygments_lexer": "ipython3",
   "version": "3.8.13"
  },
  "varInspector": {
   "cols": {
    "lenName": 16,
    "lenType": 16,
    "lenVar": 40
   },
   "kernels_config": {
    "python": {
     "delete_cmd_postfix": "",
     "delete_cmd_prefix": "del ",
     "library": "var_list.py",
     "varRefreshCmd": "print(var_dic_list())"
    },
    "r": {
     "delete_cmd_postfix": ") ",
     "delete_cmd_prefix": "rm(",
     "library": "var_list.r",
     "varRefreshCmd": "cat(var_dic_list()) "
    }
   },
   "types_to_exclude": [
    "module",
    "function",
    "builtin_function_or_method",
    "instance",
    "_Feature"
   ],
   "window_display": false
  }
 },
 "nbformat": 4,
 "nbformat_minor": 5
}
