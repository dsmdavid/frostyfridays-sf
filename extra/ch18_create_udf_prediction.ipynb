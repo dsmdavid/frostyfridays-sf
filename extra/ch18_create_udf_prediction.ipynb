{
 "cells": [
  {
   "cell_type": "code",
   "execution_count": 1,
   "id": "d9d0bd9b",
   "metadata": {},
   "outputs": [],
   "source": [
    "import re\n",
    "import pandas as pd\n",
    "from sf_utils import CONN_PARAM\n",
    "from snowflake.connector.pandas_tools import write_pandas"
   ]
  },
  {
   "cell_type": "code",
   "execution_count": 2,
   "id": "0409b3a7",
   "metadata": {},
   "outputs": [
    {
     "name": "stderr",
     "output_type": "stream",
     "text": [
      "/Users/davidsm/opt/anaconda3/envs/snowpark_frosty/lib/python3.8/site-packages/scipy/__init__.py:146: UserWarning: A NumPy version >=1.16.5 and <1.23.0 is required for this version of SciPy (detected version 1.23.1\n",
      "  warnings.warn(f\"A NumPy version >={np_minversion} and <{np_maxversion}\"\n"
     ]
    }
   ],
   "source": [
    "from snowflake.snowpark.session import Session\n",
    "from snowflake.snowpark.types import IntegerType, FloatType\n",
    "from snowflake.snowpark.functions import avg, sum, col, udf, call_udf, call_builtin, year\n",
    "from datetime import date\n",
    "from sklearn.linear_model import LinearRegression"
   ]
  },
  {
   "cell_type": "code",
   "execution_count": 3,
   "id": "2c597ba5",
   "metadata": {},
   "outputs": [],
   "source": [
    "session = Session.builder.configs(CONN_PARAM).create()"
   ]
  },
  {
   "cell_type": "markdown",
   "id": "da88a238",
   "metadata": {},
   "source": [
    "# Exploration"
   ]
  },
  {
   "cell_type": "code",
   "execution_count": 4,
   "id": "6852bba5",
   "metadata": {},
   "outputs": [],
   "source": [
    "df_pce_expl = session.sql('''SELECT \"Date\", \"Value\" FROM \"ECONOMY_DATA_ATLAS\".\"ECONOMY\".\"BEANIPA\" \n",
    "WHERE \"Table Name\" = 'Price Indexes For Personal Consumption Expenditures By Major Type Of Product' \n",
    "AND \"Indicator Name\" = 'Personal consumption expenditures (PCE)' AND \"Frequency\" = 'A' \n",
    "ORDER BY \"Date\"\n",
    "''').to_pandas()"
   ]
  },
  {
   "cell_type": "code",
   "execution_count": 5,
   "id": "702b00a5",
   "metadata": {},
   "outputs": [
    {
     "data": {
      "text/html": [
       "<div>\n",
       "<style scoped>\n",
       "    .dataframe tbody tr th:only-of-type {\n",
       "        vertical-align: middle;\n",
       "    }\n",
       "\n",
       "    .dataframe tbody tr th {\n",
       "        vertical-align: top;\n",
       "    }\n",
       "\n",
       "    .dataframe thead th {\n",
       "        text-align: right;\n",
       "    }\n",
       "</style>\n",
       "<table border=\"1\" class=\"dataframe\">\n",
       "  <thead>\n",
       "    <tr style=\"text-align: right;\">\n",
       "      <th></th>\n",
       "      <th>Date</th>\n",
       "      <th>Value</th>\n",
       "    </tr>\n",
       "  </thead>\n",
       "  <tbody>\n",
       "    <tr>\n",
       "      <th>0</th>\n",
       "      <td>1929-01-01</td>\n",
       "      <td>9.296</td>\n",
       "    </tr>\n",
       "    <tr>\n",
       "      <th>1</th>\n",
       "      <td>1930-01-01</td>\n",
       "      <td>8.902</td>\n",
       "    </tr>\n",
       "    <tr>\n",
       "      <th>2</th>\n",
       "      <td>1931-01-01</td>\n",
       "      <td>7.949</td>\n",
       "    </tr>\n",
       "    <tr>\n",
       "      <th>3</th>\n",
       "      <td>1932-01-01</td>\n",
       "      <td>7.010</td>\n",
       "    </tr>\n",
       "    <tr>\n",
       "      <th>4</th>\n",
       "      <td>1933-01-01</td>\n",
       "      <td>6.761</td>\n",
       "    </tr>\n",
       "  </tbody>\n",
       "</table>\n",
       "</div>"
      ],
      "text/plain": [
       "         Date  Value\n",
       "0  1929-01-01  9.296\n",
       "1  1930-01-01  8.902\n",
       "2  1931-01-01  7.949\n",
       "3  1932-01-01  7.010\n",
       "4  1933-01-01  6.761"
      ]
     },
     "execution_count": 5,
     "metadata": {},
     "output_type": "execute_result"
    }
   ],
   "source": [
    "df_pce_expl.head()"
   ]
  },
  {
   "cell_type": "code",
   "execution_count": 6,
   "id": "b25b3b47",
   "metadata": {},
   "outputs": [
    {
     "data": {
      "text/plain": [
       "<AxesSubplot: xlabel='Date'>"
      ]
     },
     "execution_count": 6,
     "metadata": {},
     "output_type": "execute_result"
    },
    {
     "data": {
      "image/png": "[encoded data removed]",
      "text/plain": [
       "<Figure size 432x288 with 1 Axes>"
      ]
     },
     "metadata": {
      "needs_background": "light"
     },
     "output_type": "display_data"
    }
   ],
   "source": [
    "df_pce_expl.plot(x=\"Date\",y=\"Value\")"
   ]
  },
  {
   "cell_type": "markdown",
   "id": "1998f42b",
   "metadata": {},
   "source": [
    "### Set arbitrary cut off based on graph shape"
   ]
  },
  {
   "cell_type": "code",
   "execution_count": 7,
   "id": "cb4d6f29",
   "metadata": {},
   "outputs": [],
   "source": [
    "arbitrary_cut_off = '1980-01-01'"
   ]
  },
  {
   "cell_type": "markdown",
   "id": "90d8af94",
   "metadata": {},
   "source": [
    "# Train and predict"
   ]
  },
  {
   "cell_type": "code",
   "execution_count": 8,
   "id": "368d90d0",
   "metadata": {},
   "outputs": [
    {
     "data": {
      "text/html": [
       "<div>\n",
       "<style scoped>\n",
       "    .dataframe tbody tr th:only-of-type {\n",
       "        vertical-align: middle;\n",
       "    }\n",
       "\n",
       "    .dataframe tbody tr th {\n",
       "        vertical-align: top;\n",
       "    }\n",
       "\n",
       "    .dataframe thead th {\n",
       "        text-align: right;\n",
       "    }\n",
       "</style>\n",
       "<table border=\"1\" class=\"dataframe\">\n",
       "  <thead>\n",
       "    <tr style=\"text-align: right;\">\n",
       "      <th></th>\n",
       "      <th>YEAR</th>\n",
       "      <th>PCE</th>\n",
       "    </tr>\n",
       "  </thead>\n",
       "  <tbody>\n",
       "    <tr>\n",
       "      <th>0</th>\n",
       "      <td>1980</td>\n",
       "      <td>41.182</td>\n",
       "    </tr>\n",
       "    <tr>\n",
       "      <th>1</th>\n",
       "      <td>1981</td>\n",
       "      <td>44.871</td>\n",
       "    </tr>\n",
       "    <tr>\n",
       "      <th>2</th>\n",
       "      <td>1982</td>\n",
       "      <td>47.363</td>\n",
       "    </tr>\n",
       "    <tr>\n",
       "      <th>3</th>\n",
       "      <td>1983</td>\n",
       "      <td>49.378</td>\n",
       "    </tr>\n",
       "    <tr>\n",
       "      <th>4</th>\n",
       "      <td>1984</td>\n",
       "      <td>51.243</td>\n",
       "    </tr>\n",
       "  </tbody>\n",
       "</table>\n",
       "</div>"
      ],
      "text/plain": [
       "   YEAR     PCE\n",
       "0  1980  41.182\n",
       "1  1981  44.871\n",
       "2  1982  47.363\n",
       "3  1983  49.378\n",
       "4  1984  51.243"
      ]
     },
     "execution_count": 8,
     "metadata": {},
     "output_type": "execute_result"
    }
   ],
   "source": [
    "df_pce = (session.table(\"ECONOMY_DATA_ATLAS.ECONOMY.BEANIPA\")\n",
    "          .filter(col('\"Table Name\"') == 'Price Indexes For Personal Consumption Expenditures By Major Type Of Product')\n",
    "          .filter(col('\"Indicator Name\"') == 'Personal consumption expenditures (PCE)')\n",
    "          .filter(col('\"Frequency\"') == 'A')\n",
    "          .filter(col('\"Date\"') >= arbitrary_cut_off))\n",
    "pd_df_pce_year = df_pce.select(year(col('\"Date\"')).alias('YEAR'), col('\"Value\"').alias('PCE') ).to_pandas()\n",
    "pd_df_pce_year.head()"
   ]
  },
  {
   "cell_type": "code",
   "execution_count": 9,
   "id": "639705da",
   "metadata": {},
   "outputs": [],
   "source": [
    "# train model\n",
    "x = pd_df_pce_year[\"YEAR\"].to_numpy().reshape(-1,1)\n",
    "y = pd_df_pce_year[\"PCE\"].to_numpy()\n",
    "\n",
    "model = LinearRegression().fit(x, y)"
   ]
  },
  {
   "cell_type": "code",
   "execution_count": 10,
   "id": "56b7c8db",
   "metadata": {},
   "outputs": [],
   "source": [
    "@udf(name=\"predict_pce_udf_sp\",\n",
    "     is_permanent=True,\n",
    "     stage_location=\"@DVD_FROSTY_FRIDAYS\",\n",
    "     return_type=FloatType(),\n",
    "     input_types=[IntegerType()],\n",
    "     packages= [\"pandas\",\"scikit-learn\"],\n",
    "     replace=True,\n",
    "     session=session)\n",
    "def pce_forecast(target_year: int) -> float:\n",
    "    return model.predict([[target_year]])[0].round(2).astype(float)"
   ]
  },
  {
   "cell_type": "code",
   "execution_count": 11,
   "id": "6dd1ec6c",
   "metadata": {},
   "outputs": [
    {
     "name": "stdout",
     "output_type": "stream",
     "text": [
      "------------------------------\n",
      "|\"PREDICT_PCE_UDF_SP(2021)\"  |\n",
      "------------------------------\n",
      "|114.31                      |\n",
      "------------------------------\n",
      "\n"
     ]
    }
   ],
   "source": [
    "session.sql(\"select predict_pce_udf_sp(2021)\").show()"
   ]
  }
 ],
 "metadata": {
  "kernelspec": {
   "display_name": "snowpark_frostyfridays",
   "language": "python",
   "name": "snowpark_frosty"
  },
  "language_info": {
   "codemirror_mode": {
    "name": "ipython",
    "version": 3
   },
   "file_extension": ".py",
   "mimetype": "text/x-python",
   "name": "python",
   "nbconvert_exporter": "python",
   "pygments_lexer": "ipython3",
   "version": "3.8.13"
  },
  "varInspector": {
   "cols": {
    "lenName": 16,
    "lenType": 16,
    "lenVar": 40
   },
   "kernels_config": {
    "python": {
     "delete_cmd_postfix": "",
     "delete_cmd_prefix": "del ",
     "library": "var_list.py",
     "varRefreshCmd": "print(var_dic_list())"
    },
    "r": {
     "delete_cmd_postfix": ") ",
     "delete_cmd_prefix": "rm(",
     "library": "var_list.r",
     "varRefreshCmd": "cat(var_dic_list()) "
    }
   },
   "types_to_exclude": [
    "module",
    "function",
    "builtin_function_or_method",
    "instance",
    "_Feature"
   ],
   "window_display": false
  }
 },
 "nbformat": 4,
 "nbformat_minor": 5
}
