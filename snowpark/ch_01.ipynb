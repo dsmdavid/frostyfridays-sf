{
 "cells": [
  {
   "cell_type": "code",
   "execution_count": 2,
   "id": "373df768",
   "metadata": {},
   "outputs": [
    {
     "name": "stderr",
     "output_type": "stream",
     "text": [
      "/Users/davidsm/opt/anaconda3/envs/snowpark_frosty/lib/python3.8/site-packages/scipy/__init__.py:146: UserWarning: A NumPy version >=1.16.5 and <1.23.0 is required for this version of SciPy (detected version 1.23.1\n",
      "  warnings.warn(f\"A NumPy version >={np_minversion} and <{np_maxversion}\"\n"
     ]
    }
   ],
   "source": [
    "from snowflake.snowpark.session import Session\n",
    "from snowflake.snowpark import functions as F\n",
    "from snowflake.snowpark.types import *\n",
    "\n",
    "import pandas as pd\n",
    "\n",
    "# import matplotlib.pyplot as plt\n",
    "\n",
    "# %matplotlib inline\n",
    "import datetime as dt\n",
    "import numpy as np\n",
    "import seaborn as sns\n",
    "\n",
    "#Snowflake connection info is saved in config.py\n",
    "from config import snowflake_conn_prop\n",
    "\n",
    "\n",
    "# lets import some tranformations functions\n",
    "from snowflake.snowpark.functions import udf, col, lit, translate, is_null, iff"
   ]
  },
  {
   "cell_type": "code",
   "execution_count": 4,
   "id": "8f842722",
   "metadata": {},
   "outputs": [
    {
     "name": "stdout",
     "output_type": "stream",
     "text": [
      "(0, 8, 0)\n",
      "[Row(CURRENT_WAREHOUSE()='SP_QS_WH', CURRENT_DATABASE()='TEST_DB', CURRENT_SCHEMA()='DVD_FROSTYFRIDAYS_SPARK')]\n"
     ]
    }
   ],
   "source": [
    "from snowflake.snowpark import version\n",
    "print(version.VERSION)\n",
    "#session.close()\n",
    "session = Session.builder.configs(snowflake_conn_prop).create()\n",
    "session.sql(\"use role accountadmin\").collect()\n",
    "session.sql(\"create database if not exists  {}\".format(snowflake_conn_prop['database'])).collect()\n",
    "session.sql(\"use database {}\".format(snowflake_conn_prop['database'])).collect()\n",
    "session.sql(\"create schema if not exists {}\".format(snowflake_conn_prop['schema'])).collect()\n",
    "session.sql(\"use schema {}\".format(snowflake_conn_prop['schema'])).collect()\n",
    "session.sql(\"create warehouse if not exists {} with \\\n",
    "                WAREHOUSE_SIZE = XSMALL \\\n",
    "                AUTO_SUSPEND = 120 \\\n",
    "                AUTO_RESUME = TRUE\".format(snowflake_conn_prop['warehouse'])).collect()\n",
    "session.sql(\"use warehouse {}\".format(snowflake_conn_prop['warehouse']))\n",
    "print(session.sql('select current_warehouse(), current_database(), current_schema()').collect())"
   ]
  },
  {
   "cell_type": "code",
   "execution_count": 6,
   "id": "9b559080",
   "metadata": {},
   "outputs": [
    {
     "data": {
      "text/plain": [
       "('\"TEST_DB\"', '\"TEST_DB\".\"DVD_FROSTYFRIDAYS_SPARK\"')"
      ]
     },
     "execution_count": 6,
     "metadata": {},
     "output_type": "execute_result"
    }
   ],
   "source": [
    "session.get_current_database(), session.get_fully_qualified_current_schema(),\n",
    "session."
   ]
  },
  {
   "cell_type": "code",
   "execution_count": 10,
   "id": "e89476a3",
   "metadata": {},
   "outputs": [],
   "source": [
    "def create_stage(session, database, schema, name, additional_info):\n",
    "    sql = f'create stage if not exists {database}.{schema}.{name} {additional_info}'\n",
    "    session.sql(sql).collect()"
   ]
  },
  {
   "cell_type": "code",
   "execution_count": 76,
   "id": "aeffc9d9",
   "metadata": {},
   "outputs": [],
   "source": [
    "url_stage = 's3://frostyfridaychallenges/challenge_1/'\n",
    "create_stage(session,\n",
    "             session.get_current_database(), \n",
    "             session.get_current_schema(),\n",
    "             \"SNOWPARK_FF_01\",\n",
    "             f\"url='{url_stage}' file_format=(type=csv SKIP_HEADER =1)\")"
   ]
  },
  {
   "cell_type": "markdown",
   "id": "5bd75fd9",
   "metadata": {},
   "source": [
    "##### Single column import to explore data"
   ]
  },
  {
   "cell_type": "code",
   "execution_count": 83,
   "id": "c9a10734",
   "metadata": {},
   "outputs": [
    {
     "name": "stdout",
     "output_type": "stream",
     "text": [
      "--------------------\n",
      "|\"VALUE\"           |\n",
      "--------------------\n",
      "|right             |\n",
      "|NULL              |\n",
      "|totally_empty     |\n",
      "|congratulations!  |\n",
      "|it                |\n",
      "|you               |\n",
      "|have              |\n",
      "|gotten            |\n",
      "--------------------\n",
      "\n"
     ]
    }
   ],
   "source": [
    "user_schema = StructType([StructField(\"VALUE\", StringType())])\n",
    "df = session.read.options({\"field_delimiter\": \"\\0\", \"skip_header\": 1}).schema(user_schema).csv(\"@SNOWPARK_FF_01\")\n",
    "df.show()"
   ]
  },
  {
   "cell_type": "markdown",
   "id": "84d79ea8",
   "metadata": {},
   "source": [
    "##### Proper types and columns"
   ]
  },
  {
   "cell_type": "code",
   "execution_count": 30,
   "id": "7eea75f0",
   "metadata": {},
   "outputs": [],
   "source": [
    "#user_schema = StructType([StructField(\"metadata$filename\", StringType())])\n"
   ]
  },
  {
   "cell_type": "code",
   "execution_count": 85,
   "id": "906114ca",
   "metadata": {},
   "outputs": [],
   "source": [
    "user_schema = StructType([StructField(\"WORD\", StringType())])\n",
    "df = session.read.options({\"field_delimiter\": \"\\0\", \"skip_header\": 1})\\\n",
    "            .schema(user_schema).csv(\"@SNOWPARK_FF_01\")\n"
   ]
  },
  {
   "cell_type": "code",
   "execution_count": 87,
   "id": "4189eeab",
   "metadata": {},
   "outputs": [
    {
     "data": {
      "text/plain": [
       "[Row(status='CH_01 successfully dropped.')]"
      ]
     },
     "execution_count": 87,
     "metadata": {},
     "output_type": "execute_result"
    }
   ],
   "source": [
    "session.sql(f'drop table if exists {session.get_fully_qualified_current_schema()}.CH_01').collect()"
   ]
  },
  {
   "cell_type": "code",
   "execution_count": 88,
   "id": "daae814a",
   "metadata": {},
   "outputs": [
    {
     "name": "stdout",
     "output_type": "stream",
     "text": [
      "s3://frostyfridaychallenges/challenge_1/1.csv\n",
      "s3://frostyfridaychallenges/challenge_1/2.csv\n",
      "s3://frostyfridaychallenges/challenge_1/3.csv\n"
     ]
    }
   ],
   "source": [
    "staged_files = session.sql(\"list @SNOWPARK_FF_01\")\n",
    "\n",
    "file_names_list = staged_files.select(col('\"name\"')).collect()\n",
    "\n",
    "\n",
    "for file in file_names_list:\n",
    "    print(file.asDict()['name'])\n",
    "    df_lines = session.read.options({\"field_delimiter\": \"\\0\", \"skip_header\": 1})\\\n",
    "                  .schema(user_schema).csv(\"@SNOWPARK_FF_01/\" + file.asDict()['name'].replace(url_stage,''))\n",
    "    df_lines.write.save_as_table([session.get_fully_qualified_current_schema(), 'CH_01'],\n",
    "                                 mode='append'\n",
    "                                )"
   ]
  },
  {
   "cell_type": "code",
   "execution_count": 82,
   "id": "04d7dbb2",
   "metadata": {},
   "outputs": [
    {
     "data": {
      "text/plain": [
       "[Row(WORD='you'),\n",
       " Row(WORD='have'),\n",
       " Row(WORD='gotten'),\n",
       " Row(WORD='it'),\n",
       " Row(WORD='right'),\n",
       " Row(WORD='NULL'),\n",
       " Row(WORD='totally_empty'),\n",
       " Row(WORD='congratulations!')]"
      ]
     },
     "execution_count": 82,
     "metadata": {},
     "output_type": "execute_result"
    }
   ],
   "source": [
    "t = session.table([session.get_fully_qualified_current_schema(), 'CH_01'])\n",
    "t.collect()"
   ]
  }
 ],
 "metadata": {
  "kernelspec": {
   "display_name": "snowpark_frostyfridays",
   "language": "python",
   "name": "snowpark_frosty"
  },
  "language_info": {
   "codemirror_mode": {
    "name": "ipython",
    "version": 3
   },
   "file_extension": ".py",
   "mimetype": "text/x-python",
   "name": "python",
   "nbconvert_exporter": "python",
   "pygments_lexer": "ipython3",
   "version": "3.8.13"
  },
  "varInspector": {
   "cols": {
    "lenName": 16,
    "lenType": 16,
    "lenVar": 40
   },
   "kernels_config": {
    "python": {
     "delete_cmd_postfix": "",
     "delete_cmd_prefix": "del ",
     "library": "var_list.py",
     "varRefreshCmd": "print(var_dic_list())"
    },
    "r": {
     "delete_cmd_postfix": ") ",
     "delete_cmd_prefix": "rm(",
     "library": "var_list.r",
     "varRefreshCmd": "cat(var_dic_list()) "
    }
   },
   "types_to_exclude": [
    "module",
    "function",
    "builtin_function_or_method",
    "instance",
    "_Feature"
   ],
   "window_display": false
  }
 },
 "nbformat": 4,
 "nbformat_minor": 5
}
